{
 "cells": [
  {
   "cell_type": "code",
   "execution_count": 11,
   "id": "4259eb39-a393-4955-8a2a-f357869d1e5d",
   "metadata": {},
   "outputs": [
    {
     "name": "stdin",
     "output_type": "stream",
     "text": [
      " 10\n"
     ]
    },
    {
     "name": "stdout",
     "output_type": "stream",
     "text": [
      "value:  10\n",
      "CORRECT\n"
     ]
    }
   ],
   "source": [
    "i = int(input())\n",
    "print(\"value: \", i)\n",
    "if(i == 10):\n",
    "    print(\"CORRECT\")"
   ]
  },
  {
   "cell_type": "code",
   "execution_count": 19,
   "id": "055a64e2-8f9d-43ea-b2de-b394103ef6bb",
   "metadata": {},
   "outputs": [
    {
     "name": "stdin",
     "output_type": "stream",
     "text": [
      "Enter your password:  HOPE@123\n"
     ]
    },
    {
     "name": "stdout",
     "output_type": "stream",
     "text": [
      "password is correct\n"
     ]
    }
   ],
   "source": [
    "pwd = input(\"Enter your password: \")\n",
    "if(pwd == 'HOPE@123'):\n",
    "   print(\"password is correct\")"
   ]
  },
  {
   "cell_type": "code",
   "execution_count": 27,
   "id": "818e72c4-453c-4ef0-ac12-bf29934cd200",
   "metadata": {},
   "outputs": [
    {
     "name": "stdin",
     "output_type": "stream",
     "text": [
      "Enter your age 61\n"
     ]
    },
    {
     "name": "stdout",
     "output_type": "stream",
     "text": [
      "senior citizen\n"
     ]
    }
   ],
   "source": [
    "age = int(input(\"Enter your age\"))\n",
    "if(age < 18):\n",
    "    print(\"Children\")\n",
    "elif(age < 35):\n",
    "    print(\"Adult\")\n",
    "elif(age < 60):\n",
    "    print(\"citizen\")\n",
    "else:\n",
    "    print(\"senior citizen\")"
   ]
  },
  {
   "cell_type": "code",
   "execution_count": 33,
   "id": "b89f083e-3e85-4300-9763-34fd490058be",
   "metadata": {},
   "outputs": [
    {
     "name": "stdin",
     "output_type": "stream",
     "text": [
      " -5\n"
     ]
    },
    {
     "name": "stdout",
     "output_type": "stream",
     "text": [
      "negative\n"
     ]
    }
   ],
   "source": [
    "i = int(input())\n",
    "if(i >= 0):\n",
    "    print(\"positive\")\n",
    "else:\n",
    "    print(\"negative\")"
   ]
  },
  {
   "cell_type": "code",
   "execution_count": 43,
   "id": "eb31875d-b63f-4cb8-9349-7ea5404b5d5e",
   "metadata": {},
   "outputs": [
    {
     "name": "stdin",
     "output_type": "stream",
     "text": [
      " 55\n"
     ]
    },
    {
     "name": "stdout",
     "output_type": "stream",
     "text": [
      "divisible by 5\n"
     ]
    }
   ],
   "source": [
    "i = int(input())\n",
    "if((i%5) == 0):\n",
    "    print(\"divisible by 5\")\n",
    "else:\n",
    "    print(\"not divisible by 5\")"
   ]
  },
  {
   "cell_type": "code",
   "execution_count": null,
   "id": "b7eac545-c84d-40bc-acc0-7e197a43733d",
   "metadata": {},
   "outputs": [],
   "source": []
  }
 ],
 "metadata": {
  "kernelspec": {
   "display_name": "Python 3 (ipykernel)",
   "language": "python",
   "name": "python3"
  },
  "language_info": {
   "codemirror_mode": {
    "name": "ipython",
    "version": 3
   },
   "file_extension": ".py",
   "mimetype": "text/x-python",
   "name": "python",
   "nbconvert_exporter": "python",
   "pygments_lexer": "ipython3",
   "version": "3.12.4"
  }
 },
 "nbformat": 4,
 "nbformat_minor": 5
}
