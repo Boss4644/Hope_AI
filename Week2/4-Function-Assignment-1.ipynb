{
 "cells": [
  {
   "cell_type": "code",
   "execution_count": 1,
   "id": "cdeaee45-daf2-4e90-9347-6da786f63cbf",
   "metadata": {},
   "outputs": [
    {
     "name": "stdout",
     "output_type": "stream",
     "text": [
      "Sub-Fields in AI are: \n",
      "Machine Learning\n",
      "Neural Network\n",
      "Vision\n",
      "Robotics\n",
      "Speech Processiong\n",
      "Nature Language Processing\n"
     ]
    }
   ],
   "source": [
    "lists1 = ['Machine Learning', 'Neural Network', 'Vision', 'Robotics', 'Speech Processiong', 'Nature Language Processing']\n",
    "def Subfields():\n",
    "    for temp in lists1:\n",
    "        print(temp)\n",
    "\n",
    "print(\"Sub-Fields in AI are: \" )\n",
    "Subfields()\n",
    "        "
   ]
  },
  {
   "cell_type": "code",
   "execution_count": 3,
   "id": "594b9fd6-0a05-47e5-8a81-76734c8693d5",
   "metadata": {},
   "outputs": [
    {
     "name": "stdin",
     "output_type": "stream",
     "text": [
      "Enter a number 52452\n"
     ]
    },
    {
     "name": "stdout",
     "output_type": "stream",
     "text": [
      "The given number is even\n"
     ]
    }
   ],
   "source": [
    "def OddorEven():\n",
    "    i = int(input(\"Enter a number\"))\n",
    "    if((i%2) == 0):\n",
    "        print(\"The given number is even\")\n",
    "    else:\n",
    "        print(\"The given number is odd\")\n",
    "\n",
    "OddorEven()"
   ]
  },
  {
   "cell_type": "code",
   "execution_count": 19,
   "id": "749da022-27eb-4ac7-8e3d-2ce3d49cab35",
   "metadata": {},
   "outputs": [
    {
     "name": "stdin",
     "output_type": "stream",
     "text": [
      "subject1:  98\n",
      "subject2:  87\n",
      "subject3:  95\n",
      "subject4:  95\n",
      "subject5:  93\n"
     ]
    },
    {
     "name": "stdout",
     "output_type": "stream",
     "text": [
      "Total:  468\n",
      "Percentage:  93.6\n"
     ]
    }
   ],
   "source": [
    "def percentage():\n",
    "    s1 = int(input(\"subject1: \"))\n",
    "    s2 = int(input(\"subject2: \"))\n",
    "    s3 = int(input(\"subject3: \"))\n",
    "    s4 = int(input(\"subject4: \"))\n",
    "    s5 = int(input(\"subject5: \"))\n",
    "    total = s1 + s2 + s3 + s4 + s5\n",
    "    per = float(total/5)\n",
    "    print(\"Total: \", total)\n",
    "    print(\"Percentage: \", per)\n",
    "\n",
    "percentage()"
   ]
  },
  {
   "cell_type": "code",
   "execution_count": 21,
   "id": "0a059107-8c35-484b-b698-c852561ecf7e",
   "metadata": {},
   "outputs": [
    {
     "name": "stdin",
     "output_type": "stream",
     "text": [
      "Height:  32\n",
      "Breadth:  34\n"
     ]
    },
    {
     "name": "stdout",
     "output_type": "stream",
     "text": [
      "Area formula: (height*breadth)/2\n",
      "Area of triangle:  544.0\n"
     ]
    },
    {
     "name": "stdin",
     "output_type": "stream",
     "text": [
      "height1:  2\n",
      "height2:  4\n",
      "breadth:  4\n"
     ]
    },
    {
     "name": "stdout",
     "output_type": "stream",
     "text": [
      "primeter formula: height1+height2+breadth\n",
      "perimeter of triangle:  10\n"
     ]
    }
   ],
   "source": [
    "def triangle():\n",
    "    height = int(input(\"Height: \"))\n",
    "    breadth = int(input(\"Breadth: \"))\n",
    "    print(\"Area formula: (height*breadth)/2\")\n",
    "    area = (height*breadth)/2\n",
    "    print(\"Area of triangle: \", area)\n",
    "    height1 = int(input(\"height1: \"))\n",
    "    height2 = int(input(\"height2: \"))\n",
    "    breadth = int(input(\"breadth: \"))\n",
    "    print(\"primeter formula: height1+height2+breadth\")\n",
    "    perimeter = height1 + height2 + breadth\n",
    "    print(\"perimeter of triangle: \", perimeter)\n",
    "\n",
    "triangle()"
   ]
  },
  {
   "cell_type": "code",
   "execution_count": null,
   "id": "906a74d3-7e34-4c8e-b265-cbf907b9ca75",
   "metadata": {},
   "outputs": [],
   "source": []
  }
 ],
 "metadata": {
  "kernelspec": {
   "display_name": "Python 3 (ipykernel)",
   "language": "python",
   "name": "python3"
  },
  "language_info": {
   "codemirror_mode": {
    "name": "ipython",
    "version": 3
   },
   "file_extension": ".py",
   "mimetype": "text/x-python",
   "name": "python",
   "nbconvert_exporter": "python",
   "pygments_lexer": "ipython3",
   "version": "3.12.4"
  }
 },
 "nbformat": 4,
 "nbformat_minor": 5
}
