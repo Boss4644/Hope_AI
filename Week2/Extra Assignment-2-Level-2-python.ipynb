{
 "cells": [
  {
   "cell_type": "code",
   "execution_count": 1,
   "id": "c5ffc2b9-b4b5-4169-9bac-7bd840a2471e",
   "metadata": {},
   "outputs": [
    {
     "name": "stdout",
     "output_type": "stream",
     "text": [
      "0\n",
      "1\n",
      "2\n",
      "3\n",
      "4\n",
      "5\n",
      "6\n",
      "7\n",
      "8\n",
      "9\n",
      "10\n",
      "11\n",
      "12\n",
      "13\n",
      "14\n",
      "15\n",
      "16\n",
      "17\n",
      "18\n",
      "19\n"
     ]
    }
   ],
   "source": [
    "for num in range(0, 20):\n",
    "    print(num)"
   ]
  },
  {
   "cell_type": "code",
   "execution_count": 3,
   "id": "fde3fef3-919c-4378-b09d-3d48122493bc",
   "metadata": {},
   "outputs": [
    {
     "name": "stdout",
     "output_type": "stream",
     "text": [
      "10\n",
      "11\n",
      "12\n",
      "13\n",
      "14\n",
      "15\n",
      "16\n",
      "17\n",
      "18\n",
      "19\n"
     ]
    }
   ],
   "source": [
    "for num in range(10, 20):\n",
    "    print(num)"
   ]
  },
  {
   "cell_type": "code",
   "execution_count": 11,
   "id": "be118c64-3f6d-4f4e-a8e6-cbadec45807c",
   "metadata": {},
   "outputs": [
    {
     "name": "stdout",
     "output_type": "stream",
     "text": [
      "[10, 20, 30, 40, 50, 60, 70]\n",
      "Number of item in list2:  7\n"
     ]
    }
   ],
   "source": [
    "list2 = [10, 20, 30, 40, 50, 60, 70]\n",
    "print(list2)\n",
    "print(\"Number of item in list2: \",len(list2))"
   ]
  },
  {
   "cell_type": "code",
   "execution_count": 13,
   "id": "8675b0d5-94d1-413d-a124-5c6735bfe39c",
   "metadata": {},
   "outputs": [
    {
     "name": "stdin",
     "output_type": "stream",
     "text": [
      " Artificial Intelligence\n"
     ]
    },
    {
     "name": "stdout",
     "output_type": "stream",
     "text": [
      "Artificial Intelligence\n",
      "A\n",
      "r\n",
      "t\n",
      "i\n",
      "f\n",
      "i\n",
      "c\n",
      "i\n",
      "a\n",
      "l\n",
      " \n",
      "I\n",
      "n\n",
      "t\n",
      "e\n",
      "l\n",
      "l\n",
      "i\n",
      "g\n",
      "e\n",
      "n\n",
      "c\n",
      "e\n"
     ]
    }
   ],
   "source": [
    "input1 = input()\n",
    "print(input1)\n",
    "for temp in input1:\n",
    "    print(temp)"
   ]
  },
  {
   "cell_type": "code",
   "execution_count": 15,
   "id": "0f9b8292-9cdd-4021-8268-c1dcbe1b97ec",
   "metadata": {},
   "outputs": [
    {
     "name": "stdout",
     "output_type": "stream",
     "text": [
      "(1, 'welcome', 2, 'Hope')\n"
     ]
    }
   ],
   "source": [
    "tuple1 = (1, 'welcome', 2, 'Hope')\n",
    "print(tuple1)"
   ]
  },
  {
   "cell_type": "code",
   "execution_count": 17,
   "id": "6249934b-3bd9-48a9-89ab-e4dc9a20ddb2",
   "metadata": {},
   "outputs": [
    {
     "name": "stdout",
     "output_type": "stream",
     "text": [
      "((0, 1, 2, 3), ('python', 'Hope'))\n"
     ]
    }
   ],
   "source": [
    "tup1 = (0,1,2,3)\n",
    "tup2 = ('python','Hope')\n",
    "tup3 = (tup1, tup2)\n",
    "print(tup3)"
   ]
  },
  {
   "cell_type": "code",
   "execution_count": 33,
   "id": "c6c3b2c2-0bad-4c9d-ad72-55eea377fa7f",
   "metadata": {},
   "outputs": [
    {
     "name": "stdout",
     "output_type": "stream",
     "text": [
      "9  is odd\n",
      "7  is odd\n",
      "5  is odd\n",
      "3  is odd\n",
      "1  is odd\n"
     ]
    }
   ],
   "source": [
    "list1 = (10,9,8,7,6,5,4,3,2,1)\n",
    "for temp in list1:\n",
    "    if((temp%2) != 0):\n",
    "        print(temp, \" is odd\")"
   ]
  },
  {
   "cell_type": "code",
   "execution_count": 35,
   "id": "a2b08bc9-0f68-474c-a856-fbe18bf19f2b",
   "metadata": {},
   "outputs": [
    {
     "name": "stdout",
     "output_type": "stream",
     "text": [
      "10  is even\n",
      "8  is even\n",
      "6  is even\n",
      "4  is even\n",
      "2  is even\n"
     ]
    }
   ],
   "source": [
    "list1 = (10,9,8,7,6,5,4,3,2,1)\n",
    "for temp in list1:\n",
    "    if((temp%2) == 0):\n",
    "        print(temp, \" is even\")"
   ]
  },
  {
   "cell_type": "code",
   "execution_count": null,
   "id": "0a73e38a-af0f-4b77-b263-af44fc24949c",
   "metadata": {},
   "outputs": [],
   "source": []
  }
 ],
 "metadata": {
  "kernelspec": {
   "display_name": "Python 3 (ipykernel)",
   "language": "python",
   "name": "python3"
  },
  "language_info": {
   "codemirror_mode": {
    "name": "ipython",
    "version": 3
   },
   "file_extension": ".py",
   "mimetype": "text/x-python",
   "name": "python",
   "nbconvert_exporter": "python",
   "pygments_lexer": "ipython3",
   "version": "3.12.4"
  }
 },
 "nbformat": 4,
 "nbformat_minor": 5
}
