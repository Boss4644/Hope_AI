{
 "cells": [
  {
   "cell_type": "code",
   "execution_count": 1,
   "id": "315e9bd3-9751-48e6-a95e-284b1baebaa5",
   "metadata": {},
   "outputs": [
    {
     "name": "stdout",
     "output_type": "stream",
     "text": [
      "Hope AI\n"
     ]
    }
   ],
   "source": [
    "print(\"Hope AI\")"
   ]
  },
  {
   "cell_type": "code",
   "execution_count": 3,
   "id": "0598852e-2a06-4fad-9785-1fe4cde6318e",
   "metadata": {},
   "outputs": [
    {
     "name": "stdin",
     "output_type": "stream",
     "text": [
      "Enter your institute name:  HOPI AI\n"
     ]
    }
   ],
   "source": [
    "insName = input(\"Enter your institute name: \")"
   ]
  },
  {
   "cell_type": "code",
   "execution_count": 5,
   "id": "38d0f2b9-bb39-4647-a2e3-356448e8cfb4",
   "metadata": {},
   "outputs": [
    {
     "name": "stdin",
     "output_type": "stream",
     "text": [
      "Enter your name:  Raj\n",
      "Enter your age:  15\n",
      "Enter your school name:  Guru school\n",
      "Enter your degree:  B.E CSE\n"
     ]
    }
   ],
   "source": [
    "name = input(\"Enter your name: \")\n",
    "age = int(input(\"Enter your age: \" ))\n",
    "school = input(\"Enter your school name: \")\n",
    "degree = input(\"Enter your degree: \")"
   ]
  },
  {
   "cell_type": "code",
   "execution_count": 7,
   "id": "95165b64-8a53-45c4-b998-2b3a425da641",
   "metadata": {},
   "outputs": [
    {
     "name": "stdout",
     "output_type": "stream",
     "text": [
      "add:  77\n"
     ]
    }
   ],
   "source": [
    "a = 43\n",
    "b = 34\n",
    "print(\"add: \", a + b)"
   ]
  },
  {
   "cell_type": "code",
   "execution_count": 9,
   "id": "a5b2a3f6-52fc-4cd0-b613-77a7cde0a09c",
   "metadata": {},
   "outputs": [
    {
     "name": "stdout",
     "output_type": "stream",
     "text": [
      "sub:  9\n"
     ]
    }
   ],
   "source": [
    "a = 43\n",
    "b = 34\n",
    "print(\"sub: \", a - b)"
   ]
  },
  {
   "cell_type": "code",
   "execution_count": 11,
   "id": "e1efaa08-9c61-4629-af4e-6fbd99e3190a",
   "metadata": {},
   "outputs": [
    {
     "name": "stdout",
     "output_type": "stream",
     "text": [
      "mul:  6111\n"
     ]
    }
   ],
   "source": [
    "a = 63\n",
    "b = 97\n",
    "print(\"mul: \", a * b)"
   ]
  },
  {
   "cell_type": "code",
   "execution_count": 13,
   "id": "a947b1fa-a1d7-4409-bb99-67d31a93ed01",
   "metadata": {},
   "outputs": [
    {
     "name": "stdout",
     "output_type": "stream",
     "text": [
      "div:  2.4516129032258065\n"
     ]
    }
   ],
   "source": [
    "a = 76\n",
    "b = 31\n",
    "print(\"div: \", a / b)"
   ]
  },
  {
   "cell_type": "code",
   "execution_count": 15,
   "id": "7edec20a-f500-45f1-b499-aefe1058b8d9",
   "metadata": {},
   "outputs": [
    {
     "name": "stdout",
     "output_type": "stream",
     "text": [
      "div:  2\n"
     ]
    }
   ],
   "source": [
    "import math\n",
    "a = 76\n",
    "b = 31\n",
    "print(\"floor div: \", math.floor(a / b))"
   ]
  },
  {
   "cell_type": "code",
   "execution_count": 17,
   "id": "c936fe9b-5988-49f5-9e0c-0ea7b89182f4",
   "metadata": {},
   "outputs": [
    {
     "name": "stdout",
     "output_type": "stream",
     "text": [
      "div:  14\n"
     ]
    }
   ],
   "source": [
    "a = 76\n",
    "b = 31\n",
    "print(\"modulo: \", a % b)"
   ]
  },
  {
   "cell_type": "code",
   "execution_count": 21,
   "id": "c9cbf19d-3461-4310-b47b-25f9ea0fea3b",
   "metadata": {},
   "outputs": [
    {
     "name": "stdout",
     "output_type": "stream",
     "text": [
      "power:  256\n"
     ]
    }
   ],
   "source": [
    "a = 4\n",
    "b = 4\n",
    "print(\"power: \", pow(a, b))"
   ]
  },
  {
   "cell_type": "code",
   "execution_count": null,
   "id": "ec2dc091-c9c2-4e48-a127-53d08fae673d",
   "metadata": {},
   "outputs": [],
   "source": []
  },
  {
   "cell_type": "code",
   "execution_count": null,
   "id": "8411f885-8bca-42ab-8133-5985fc9bd4f7",
   "metadata": {},
   "outputs": [],
   "source": []
  }
 ],
 "metadata": {
  "kernelspec": {
   "display_name": "Python 3 (ipykernel)",
   "language": "python",
   "name": "python3"
  },
  "language_info": {
   "codemirror_mode": {
    "name": "ipython",
    "version": 3
   },
   "file_extension": ".py",
   "mimetype": "text/x-python",
   "name": "python",
   "nbconvert_exporter": "python",
   "pygments_lexer": "ipython3",
   "version": "3.12.4"
  }
 },
 "nbformat": 4,
 "nbformat_minor": 5
}
