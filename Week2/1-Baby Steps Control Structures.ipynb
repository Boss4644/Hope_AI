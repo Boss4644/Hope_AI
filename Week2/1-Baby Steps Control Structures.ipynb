{
 "cells": [
  {
   "cell_type": "code",
   "execution_count": 1,
   "id": "af9a976e-a234-4c80-89f1-ce649169d873",
   "metadata": {},
   "outputs": [
    {
     "name": "stdout",
     "output_type": "stream",
     "text": [
      "Welcome to Assignment - 1\n"
     ]
    }
   ],
   "source": [
    "print(\"Welcome to Assignment - 1\")"
   ]
  },
  {
   "cell_type": "code",
   "execution_count": 3,
   "id": "1a852e9a-f2ce-488c-a913-236a93e0e932",
   "metadata": {},
   "outputs": [
    {
     "name": "stdout",
     "output_type": "stream",
     "text": [
      "Num1:  10\n",
      "Num2:  30\n",
      "Add:  40\n"
     ]
    }
   ],
   "source": [
    "num1 = 10\n",
    "num2 = 30\n",
    "add = num1 + num2\n",
    "print(\"Num1: \", num1)\n",
    "print(\"Num2: \", num2)\n",
    "print(\"Add: \", add)"
   ]
  },
  {
   "cell_type": "raw",
   "id": "b05f58cd-7dfd-4f58-b9f2-f0529b30c36f",
   "metadata": {},
   "source": [
    "Underweight = <18.5\n",
    "Normal weight = 18.5–24.9\n",
    "Overweight = 25–29.9\n",
    "Very Overweight = 30 or greater"
   ]
  },
  {
   "cell_type": "code",
   "execution_count": 17,
   "id": "67934afe-22fc-421a-876f-4e77d2cfc1b3",
   "metadata": {},
   "outputs": [
    {
     "name": "stdin",
     "output_type": "stream",
     "text": [
      "Enter Weight 72\n",
      "Enter Height in CM 163\n"
     ]
    },
    {
     "name": "stdout",
     "output_type": "stream",
     "text": [
      "Your BMI 27.09925100681245\n",
      "Overweight\n"
     ]
    }
   ],
   "source": [
    "weight=int(input(\"Enter Weight\"))\n",
    "height=int(input(\"Enter Height in CM\"))\n",
    "heightInMtr = float(height/100)\n",
    "bmi= weight/float(heightInMtr*heightInMtr)\n",
    "print(\"Your BMI\", bmi)\n",
    "if bmi<18.5:\n",
    "    print(\"Underweight\")\n",
    "elif bmi>=18.5 and bmi<25:\n",
    "    print(\"Normal\")\n",
    "elif bmi>=25 and bmi<30:\n",
    "    print(\"Overweight\")\n",
    "else:\n",
    "    print(\"Very Over Weight\")"
   ]
  },
  {
   "cell_type": "code",
   "execution_count": null,
   "id": "42011b34-1fa6-4a89-83bc-eb2bd0784322",
   "metadata": {},
   "outputs": [],
   "source": []
  }
 ],
 "metadata": {
  "kernelspec": {
   "display_name": "Python 3 (ipykernel)",
   "language": "python",
   "name": "python3"
  },
  "language_info": {
   "codemirror_mode": {
    "name": "ipython",
    "version": 3
   },
   "file_extension": ".py",
   "mimetype": "text/x-python",
   "name": "python",
   "nbconvert_exporter": "python",
   "pygments_lexer": "ipython3",
   "version": "3.12.4"
  }
 },
 "nbformat": 4,
 "nbformat_minor": 5
}
