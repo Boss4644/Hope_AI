{
 "cells": [
  {
   "cell_type": "code",
   "execution_count": 1,
   "id": "b4198ff9-3e97-4305-b8f7-6a736b22b6d0",
   "metadata": {},
   "outputs": [],
   "source": [
    "import pickle\n",
    "filename = \"Logistic_GS_input_preprocess.sav\"\n",
    "sfilename = \"input_scaler_model.pkl\""
   ]
  },
  {
   "cell_type": "code",
   "execution_count": 3,
   "id": "781fb712-5ff5-4403-9fd5-bdf8a0f04051",
   "metadata": {},
   "outputs": [
    {
     "name": "stderr",
     "output_type": "stream",
     "text": [
      "C:\\Users\\PrakashBaskaran\\anaconda3\\Lib\\site-packages\\sklearn\\base.py:493: UserWarning: X does not have valid feature names, but StandardScaler was fitted with feature names\n",
      "  warnings.warn(\n"
     ]
    },
    {
     "data": {
      "text/plain": [
       "array([[-3.06588549e+00, -1.15034877e-02,  9.40283793e-01,\n",
       "         2.66245472e+00, -1.96101988e+00, -1.12118037e+00,\n",
       "        -5.39401918e-01, -1.30631566e+01, -2.05626670e+00,\n",
       "         5.01640246e+01,  2.27503124e+00, -3.46365519e+00,\n",
       "         1.62759313e+02,  1.11819834e+01,  2.92314532e+01,\n",
       "         1.03225542e+02,  6.19124492e+04,  1.13515023e+01,\n",
       "        -1.95866374e+00, -3.42997170e-01, -2.35702260e-01,\n",
       "         1.35269628e+00,  1.35269628e+00, -2.92770022e-01,\n",
       "         5.16397779e-01,  1.91485422e+00,  2.24620893e+00]])"
      ]
     },
     "execution_count": 3,
     "metadata": {},
     "output_type": "execute_result"
    }
   ],
   "source": [
    "loaded_modal = pickle.load(open(filename, 'rb'))\n",
    "loaded_scalar = pickle.load(open(sfilename, 'rb'))\n",
    "preinput = loaded_scalar.transform([[2.00,76.46,2,3.00,0.00,1,0,0,0,148.1126761,57.48210526,3.077356021,137.528754,4.63,12.51815562,38.86890244,8408.191126,4.705597015,0,0,0,1,1,0,1,1,1]])\n",
    "preinput"
   ]
  },
  {
   "cell_type": "code",
   "execution_count": 5,
   "id": "b524885a-1b4b-4bab-aadd-4e17e4a92bc1",
   "metadata": {},
   "outputs": [
    {
     "data": {
      "text/plain": [
       "array([1])"
      ]
     },
     "execution_count": 5,
     "metadata": {},
     "output_type": "execute_result"
    }
   ],
   "source": [
    "result = loaded_modal.predict(preinput)\n",
    "result"
   ]
  },
  {
   "cell_type": "code",
   "execution_count": null,
   "id": "a9912936-0dfd-4e4a-8693-fc517c139eab",
   "metadata": {},
   "outputs": [],
   "source": []
  }
 ],
 "metadata": {
  "kernelspec": {
   "display_name": "Python 3 (ipykernel)",
   "language": "python",
   "name": "python3"
  },
  "language_info": {
   "codemirror_mode": {
    "name": "ipython",
    "version": 3
   },
   "file_extension": ".py",
   "mimetype": "text/x-python",
   "name": "python",
   "nbconvert_exporter": "python",
   "pygments_lexer": "ipython3",
   "version": "3.12.4"
  }
 },
 "nbformat": 4,
 "nbformat_minor": 5
}
