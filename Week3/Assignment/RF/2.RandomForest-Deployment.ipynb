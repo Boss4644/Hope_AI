{
 "cells": [
  {
   "cell_type": "code",
   "execution_count": 1,
   "id": "866b0073-44f2-46ae-8bcd-c6a69559d9f3",
   "metadata": {},
   "outputs": [],
   "source": [
    "import pickle"
   ]
  },
  {
   "cell_type": "code",
   "execution_count": 3,
   "id": "fd7be5ad-8cd9-4eb3-88a2-a1e434a359a8",
   "metadata": {},
   "outputs": [],
   "source": [
    "file_name = \"finalized_rf_model.sav\""
   ]
  },
  {
   "cell_type": "code",
   "execution_count": 4,
   "id": "3f444ead-57d0-4b0b-a462-72ea8258df79",
   "metadata": {},
   "outputs": [],
   "source": [
    "loaded_model = pickle.load(open(file_name,\"rb\"))"
   ]
  },
  {
   "cell_type": "code",
   "execution_count": 6,
   "id": "8af26a27-511a-4ee3-afc4-3932e1022c21",
   "metadata": {},
   "outputs": [
    {
     "name": "stderr",
     "output_type": "stream",
     "text": [
      "C:\\Users\\PrakashBaskaran\\anaconda3\\Lib\\site-packages\\sklearn\\base.py:493: UserWarning: X does not have valid feature names, but RandomForestRegressor was fitted with feature names\n",
      "  warnings.warn(\n"
     ]
    },
    {
     "data": {
      "text/plain": [
       "array([4151.5155446])"
      ]
     },
     "execution_count": 6,
     "metadata": {},
     "output_type": "execute_result"
    }
   ],
   "source": [
    "result = loaded_model.predict([[32,27, 0, 1, 0]])\n",
    "result"
   ]
  },
  {
   "cell_type": "code",
   "execution_count": null,
   "id": "a98d1ad8-78a1-4a77-b7f1-e4eba3c9bdd7",
   "metadata": {},
   "outputs": [],
   "source": []
  }
 ],
 "metadata": {
  "kernelspec": {
   "display_name": "Python 3 (ipykernel)",
   "language": "python",
   "name": "python3"
  },
  "language_info": {
   "codemirror_mode": {
    "name": "ipython",
    "version": 3
   },
   "file_extension": ".py",
   "mimetype": "text/x-python",
   "name": "python",
   "nbconvert_exporter": "python",
   "pygments_lexer": "ipython3",
   "version": "3.12.4"
  }
 },
 "nbformat": 4,
 "nbformat_minor": 5
}
