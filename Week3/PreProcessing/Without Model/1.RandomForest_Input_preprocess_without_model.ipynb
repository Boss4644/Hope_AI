{
 "cells": [
  {
   "cell_type": "code",
   "execution_count": 1,
   "id": "1b6c5da7-818b-467c-aa6c-15a2d526e564",
   "metadata": {},
   "outputs": [],
   "source": [
    "import numpy as np\n",
    "import matplotlib.pyplot as plt\n",
    "import pandas as pd"
   ]
  },
  {
   "cell_type": "code",
   "execution_count": 2,
   "id": "176338af-004b-46bc-be29-733521149c13",
   "metadata": {},
   "outputs": [],
   "source": [
    "dataset = pd.read_csv(\"insurance_pre.csv\")"
   ]
  },
  {
   "cell_type": "code",
   "execution_count": 3,
   "id": "5c084b74-3540-4f6d-aa29-f955b08d4181",
   "metadata": {},
   "outputs": [],
   "source": [
    "dataset = pd.get_dummies(dataset, dtype=int, drop_first=True)"
   ]
  },
  {
   "cell_type": "code",
   "execution_count": 4,
   "id": "ab45ddf0-654c-408b-8c56-86b9005894cc",
   "metadata": {},
   "outputs": [],
   "source": [
    " indep=dataset[['age', 'bmi', 'children','sex_male', 'smoker_yes']]\n",
    "dep=dataset['charges']"
   ]
  },
  {
   "cell_type": "code",
   "execution_count": 5,
   "id": "5d09eca9-297f-47dc-95de-8f2c9f5bb68e",
   "metadata": {},
   "outputs": [],
   "source": [
    "#split into training set and test\n",
    "from sklearn.model_selection import train_test_split\n",
    "X_train, X_test, y_train, y_test = train_test_split(indep, dep, test_size = 1/3, random_state = 0)"
   ]
  },
  {
   "cell_type": "code",
   "execution_count": 6,
   "id": "53730a93-4bb4-4a69-8332-2d4899108544",
   "metadata": {},
   "outputs": [],
   "source": [
    "from sklearn.preprocessing import StandardScaler\n",
    "sc = StandardScaler()\n",
    "X_train = sc.fit_transform(X_train)\n",
    "X_test = sc.transform(X_test)"
   ]
  },
  {
   "cell_type": "code",
   "execution_count": 7,
   "id": "74c7843a-0233-45a4-9f15-b3ade0535cff",
   "metadata": {},
   "outputs": [],
   "source": [
    "y_train = np.array(y_train)\n",
    "y_test = np.array(y_test)\n",
    "y_train = y_train.reshape(-1, 1)\n",
    "y_test = y_test.reshape(-1, 1)"
   ]
  },
  {
   "cell_type": "code",
   "execution_count": 8,
   "id": "c4cd4b55-a4b5-4f67-9b2b-4aaf55942c7b",
   "metadata": {},
   "outputs": [],
   "source": [
    "scy=StandardScaler()\n",
    "y_train=scy.fit_transform(y_train)\n",
    "y_test=scy.transform(y_test)"
   ]
  },
  {
   "cell_type": "code",
   "execution_count": 9,
   "id": "8dcd9c7f-929e-40a9-9621-d2ce26ab7f7d",
   "metadata": {},
   "outputs": [],
   "source": [
    "import pickle\n",
    "filename = \"finalized_GS_RF_input_preprocess.sav\""
   ]
  },
  {
   "cell_type": "code",
   "execution_count": 10,
   "id": "d20f0bb8-7fad-4aae-b6ab-00f6d908bd7d",
   "metadata": {},
   "outputs": [
    {
     "name": "stderr",
     "output_type": "stream",
     "text": [
      "C:\\Users\\PrakashBaskaran\\anaconda3\\Lib\\site-packages\\sklearn\\base.py:493: UserWarning: X does not have valid feature names, but StandardScaler was fitted with feature names\n",
      "  warnings.warn(\n"
     ]
    },
    {
     "data": {
      "text/plain": [
       "array([[-0.53875174, -0.43183433, -0.0755796 , -0.98885138,  2.00280702]])"
      ]
     },
     "execution_count": 10,
     "metadata": {},
     "output_type": "execute_result"
    }
   ],
   "source": [
    "loaded_modal = pickle.load(open(filename, 'rb'))\n",
    "preinput = sc.transform([[32,28,1,0,1]])\n",
    "preinput"
   ]
  },
  {
   "cell_type": "code",
   "execution_count": 11,
   "id": "4e494fe2-5117-4446-97f8-2ee76e98bcde",
   "metadata": {},
   "outputs": [
    {
     "data": {
      "text/plain": [
       "array([0.67755544])"
      ]
     },
     "execution_count": 11,
     "metadata": {},
     "output_type": "execute_result"
    }
   ],
   "source": [
    "result = loaded_modal.predict(preinput)\n",
    "result"
   ]
  },
  {
   "cell_type": "code",
   "execution_count": 12,
   "id": "1224efc7-54cf-456d-b983-14b995c0dac7",
   "metadata": {},
   "outputs": [
    {
     "data": {
      "text/plain": [
       "array([[21143.6403275]])"
      ]
     },
     "execution_count": 12,
     "metadata": {},
     "output_type": "execute_result"
    }
   ],
   "source": [
    "preoutput = scy.inverse_transform([result])\n",
    "preoutput"
   ]
  }
 ],
 "metadata": {
  "kernelspec": {
   "display_name": "Python 3 (ipykernel)",
   "language": "python",
   "name": "python3"
  },
  "language_info": {
   "codemirror_mode": {
    "name": "ipython",
    "version": 3
   },
   "file_extension": ".py",
   "mimetype": "text/x-python",
   "name": "python",
   "nbconvert_exporter": "python",
   "pygments_lexer": "ipython3",
   "version": "3.12.4"
  }
 },
 "nbformat": 4,
 "nbformat_minor": 5
}
