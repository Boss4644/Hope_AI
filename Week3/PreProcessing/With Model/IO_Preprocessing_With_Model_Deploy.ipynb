{
 "cells": [
  {
   "cell_type": "code",
   "execution_count": 1,
   "id": "c4dec32b-1b42-40ed-b5fa-6720fe909280",
   "metadata": {},
   "outputs": [],
   "source": [
    "import pickle\n",
    "filename = \"finalized_GS_RF_input_preprocess.sav\"\n",
    "sfilename = \"input_scaler_model.pkl\"\n",
    "sofilename = \"output_scaler_model.pkl\""
   ]
  },
  {
   "cell_type": "code",
   "execution_count": 2,
   "id": "cf35cb40-5bc0-4d3a-8f4b-49a00b9204aa",
   "metadata": {},
   "outputs": [
    {
     "name": "stderr",
     "output_type": "stream",
     "text": [
      "C:\\Users\\PrakashBaskaran\\anaconda3\\Lib\\site-packages\\sklearn\\base.py:493: UserWarning: X does not have valid feature names, but StandardScaler was fitted with feature names\n",
      "  warnings.warn(\n"
     ]
    },
    {
     "data": {
      "text/plain": [
       "array([[-0.53875174, -0.43183433, -0.0755796 , -0.98885138,  2.00280702]])"
      ]
     },
     "execution_count": 2,
     "metadata": {},
     "output_type": "execute_result"
    }
   ],
   "source": [
    "loaded_modal = pickle.load(open(filename, 'rb'))\n",
    "loaded_scalar = pickle.load(open(sfilename, 'rb'))\n",
    "loaded_output_scalar = pickle.load(open(sofilename, 'rb'))\n",
    "preinput = loaded_scalar.transform([[32,28,1,0,1]])\n",
    "preinput"
   ]
  },
  {
   "cell_type": "code",
   "execution_count": 3,
   "id": "fb790a9b-89fd-497f-afb4-18037d2133f8",
   "metadata": {},
   "outputs": [
    {
     "data": {
      "text/plain": [
       "array([0.64293688])"
      ]
     },
     "execution_count": 3,
     "metadata": {},
     "output_type": "execute_result"
    }
   ],
   "source": [
    "result = loaded_modal.predict(preinput)\n",
    "result"
   ]
  },
  {
   "cell_type": "code",
   "execution_count": 4,
   "id": "e3e475b6-355b-415d-864c-86df8b5d8130",
   "metadata": {},
   "outputs": [
    {
     "data": {
      "text/plain": [
       "array([[20734.6220448]])"
      ]
     },
     "execution_count": 4,
     "metadata": {},
     "output_type": "execute_result"
    }
   ],
   "source": [
    "preoutput = loaded_output_scalar.inverse_transform([result])\n",
    "preoutput"
   ]
  },
  {
   "cell_type": "code",
   "execution_count": null,
   "id": "26d9bea1-42c7-4690-9296-c28a5d9c0267",
   "metadata": {},
   "outputs": [],
   "source": []
  }
 ],
 "metadata": {
  "kernelspec": {
   "display_name": "Python 3 (ipykernel)",
   "language": "python",
   "name": "python3"
  },
  "language_info": {
   "codemirror_mode": {
    "name": "ipython",
    "version": 3
   },
   "file_extension": ".py",
   "mimetype": "text/x-python",
   "name": "python",
   "nbconvert_exporter": "python",
   "pygments_lexer": "ipython3",
   "version": "3.12.4"
  }
 },
 "nbformat": 4,
 "nbformat_minor": 5
}
