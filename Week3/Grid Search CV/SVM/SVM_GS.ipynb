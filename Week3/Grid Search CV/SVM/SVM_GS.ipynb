{
 "cells": [
  {
   "cell_type": "code",
   "execution_count": null,
   "id": "1b6c5da7-818b-467c-aa6c-15a2d526e564",
   "metadata": {},
   "outputs": [],
   "source": [
    "import numpy as np\n",
    "import matplotlib.pyplot as plt\n",
    "import pandas as pd"
   ]
  },
  {
   "cell_type": "code",
   "execution_count": null,
   "id": "176338af-004b-46bc-be29-733521149c13",
   "metadata": {},
   "outputs": [],
   "source": [
    "dataset = pd.read_csv(\"insurance_pre.csv\")"
   ]
  },
  {
   "cell_type": "code",
   "execution_count": null,
   "id": "5c084b74-3540-4f6d-aa29-f955b08d4181",
   "metadata": {},
   "outputs": [],
   "source": [
    "dataset = pd.get_dummies(dataset, dtype=int, drop_first=True)"
   ]
  },
  {
   "cell_type": "code",
   "execution_count": null,
   "id": "1bfa4015-b1f3-4c76-8b37-cd6a3e8bcd4a",
   "metadata": {},
   "outputs": [],
   "source": [
    "dataset.columns"
   ]
  },
  {
   "cell_type": "code",
   "execution_count": null,
   "id": "ab45ddf0-654c-408b-8c56-86b9005894cc",
   "metadata": {},
   "outputs": [],
   "source": [
    "indep=dataset[['age', 'bmi', 'children','sex_male', 'smoker_yes']]\n",
    "dep=dataset['charges']"
   ]
  },
  {
   "cell_type": "code",
   "execution_count": null,
   "id": "7f691638-fcec-442d-82e6-30a15f59b1ff",
   "metadata": {},
   "outputs": [],
   "source": [
    "from sklearn.model_selection import GridSearchCV\n",
    "from sklearn.svm import SVR\n",
    "param_grid = {'kernel':['rbf','poly','sigmoid','linear'],\n",
    "'C':[10,100,1000,2000,3000],'gamma':['auto','scale']}\n",
    "grid = GridSearchCV(SVR(), param_grid, refit = True, verbose = 3,n_jobs=-1)\n",
    "# fitting the model for grid search\n",
    "grid.fit(indep, dep)"
   ]
  },
  {
   "cell_type": "code",
   "execution_count": null,
   "id": "885cdd47-a8f8-4f3b-bd98-5e42dc32772e",
   "metadata": {},
   "outputs": [],
   "source": [
    "re=grid.cv_results_\n",
    "print(\"The R_score value for best parameter {}:\".format(grid.best_params_))"
   ]
  },
  {
   "cell_type": "code",
   "execution_count": null,
   "id": "cc169b56-6245-42c1-b8e9-1e0b943154f1",
   "metadata": {},
   "outputs": [],
   "source": [
    "table=pd.DataFrame.from_dict(re)"
   ]
  },
  {
   "cell_type": "code",
   "execution_count": null,
   "id": "7aedf3e9-7302-4dde-8939-9e9976b485bf",
   "metadata": {},
   "outputs": [],
   "source": [
    "table"
   ]
  },
  {
   "cell_type": "code",
   "execution_count": null,
   "id": "378c8741-8ce8-41f7-b565-9277ddae2fe6",
   "metadata": {},
   "outputs": [],
   "source": [
    "age_input=float(input(\"Age:\"))\n",
    "bmi_input=float(input(\"BMI:\"))\n",
    "children_input=float(input(\"Children:\"))\n",
    "sex_male_input=int(input(\"Sex Male 0 or 1:\"))\n",
    "smoker_yes_input=int(input(\"Smoker Yes 0 or 1:\"))"
   ]
  },
  {
   "cell_type": "code",
   "execution_count": null,
   "id": "c58a6d17-f68d-4eee-85cd-690b7e13cfbb",
   "metadata": {},
   "outputs": [],
   "source": [
    "Future_Prediction=grid.predict([[age_input,bmi_input,children_input,sex_male_input,smoker_yes_input]])\n",
    "print(\"Future_Prediction={}\".format(Future_Prediction))"
   ]
  },
  {
   "cell_type": "code",
   "execution_count": null,
   "id": "8ada77ec-c977-446a-8f93-5868fc90d213",
   "metadata": {},
   "outputs": [],
   "source": []
  }
 ],
 "metadata": {
  "kernelspec": {
   "display_name": "Python 3 (ipykernel)",
   "language": "python",
   "name": "python3"
  },
  "language_info": {
   "codemirror_mode": {
    "name": "ipython",
    "version": 3
   },
   "file_extension": ".py",
   "mimetype": "text/x-python",
   "name": "python",
   "nbconvert_exporter": "python",
   "pygments_lexer": "ipython3",
   "version": "3.12.4"
  }
 },
 "nbformat": 4,
 "nbformat_minor": 5
}
