{
 "cells": [
  {
   "cell_type": "code",
   "execution_count": 1,
   "id": "c4dec32b-1b42-40ed-b5fa-6720fe909280",
   "metadata": {},
   "outputs": [],
   "source": [
    "import pickle\n",
    "filename = \"finalized_GS_RF_without_train_set.sav\""
   ]
  },
  {
   "cell_type": "code",
   "execution_count": 3,
   "id": "cf35cb40-5bc0-4d3a-8f4b-49a00b9204aa",
   "metadata": {},
   "outputs": [
    {
     "name": "stderr",
     "output_type": "stream",
     "text": [
      "C:\\Users\\PrakashBaskaran\\anaconda3\\Lib\\site-packages\\sklearn\\base.py:493: UserWarning: X does not have valid feature names, but RandomForestRegressor was fitted with feature names\n",
      "  warnings.warn(\n"
     ]
    }
   ],
   "source": [
    "loaded_modal = pickle.load(open(filename, 'rb'))\n",
    "age_input = 32\n",
    "bmi_input = 28\n",
    "children_input = 1\n",
    "sex_male_input = 1\n",
    "smoker_yes_input = 1\n",
    "result = loaded_modal.predict([[age_input,bmi_input,children_input,sex_male_input,smoker_yes_input]])"
   ]
  },
  {
   "cell_type": "code",
   "execution_count": 4,
   "id": "fb790a9b-89fd-497f-afb4-18037d2133f8",
   "metadata": {},
   "outputs": [
    {
     "data": {
      "text/plain": [
       "array([20102.85033175])"
      ]
     },
     "execution_count": 4,
     "metadata": {},
     "output_type": "execute_result"
    }
   ],
   "source": [
    "result"
   ]
  }
 ],
 "metadata": {
  "kernelspec": {
   "display_name": "Python 3 (ipykernel)",
   "language": "python",
   "name": "python3"
  },
  "language_info": {
   "codemirror_mode": {
    "name": "ipython",
    "version": 3
   },
   "file_extension": ".py",
   "mimetype": "text/x-python",
   "name": "python",
   "nbconvert_exporter": "python",
   "pygments_lexer": "ipython3",
   "version": "3.12.4"
  }
 },
 "nbformat": 4,
 "nbformat_minor": 5
}
